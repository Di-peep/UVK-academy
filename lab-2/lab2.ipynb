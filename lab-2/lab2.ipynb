{
 "cells": [
  {
   "cell_type": "markdown",
   "metadata": {},
   "source": [
    "# Iterators task\n",
    "Given a number. Write iterator that prints n fibonacci numbers using `__iter__` and `__next__` methods.\n",
    "    \n",
    "    Input: 11\n",
    "    Output: 0 1 1 2 3 5 8 13 21 34 55"
   ]
  },
  {
   "cell_type": "code",
   "execution_count": 1,
   "metadata": {
    "pycharm": {
     "is_executing": false
    }
   },
   "outputs": [],
   "source": [
    "class FibonacciIterator:\n",
    "    \"\"\"\n",
    "    Class to implement an iterator of Fibonacci numbers.\n",
    "    \"\"\"\n",
    "    def __init__(self, length: int):\n",
    "        self.length = length\n",
    "        self.n1 = 0\n",
    "        self.n2 = 1\n",
    "        \n",
    "    def __iter__(self):\n",
    "        self.step = 0\n",
    "        return self\n",
    "    \n",
    "    def __next__(self):\n",
    "        if self.step <= self.length:\n",
    "            n0 = self.n1\n",
    "            self.n1 = self.n2\n",
    "            self.n2 = n0 + self.n2\n",
    "            self.step += 1\n",
    "            return n0\n",
    "        else:\n",
    "            raise StopIteration"
   ]
  },
  {
   "cell_type": "code",
   "execution_count": 2,
   "outputs": [
    {
     "name": "stdout",
     "text": [
      "0, 1, 1, 2, 3, 5, 8, 13, 21, 34, 55, 89, "
     ],
     "output_type": "stream"
    }
   ],
   "source": [
    "for i in FibonacciIterator(11):\n",
    "    print(i, end=', ')"
   ],
   "metadata": {
    "collapsed": false,
    "pycharm": {
     "name": "#%%\n",
     "is_executing": false
    }
   }
  },
  {
   "cell_type": "markdown",
   "metadata": {},
   "source": [
    "Write iterator that prints n fibonacci numbers using `__getitem__` method.\n",
    "    \n",
    "    Input: 11\n",
    "    Output: 0 1 1 2 3 5 8 13 21 34 55"
   ]
  },
  {
   "cell_type": "code",
   "execution_count": 4,
   "metadata": {
    "pycharm": {
     "is_executing": false
    }
   },
   "outputs": [],
   "source": [
    "class FibonacciIterator:\n",
    "    \"\"\"\n",
    "    Class to implement an iterator of Fibonacci numbers.\n",
    "    \"\"\"\n",
    "    def __init__(self, length: int):\n",
    "        self.length = length\n",
    "    \n",
    "    def __getitem__(self, item: int):\n",
    "        if item < self.length:\n",
    "            return self.__fib(item)\n",
    "        raise IndexError\n",
    "    \n",
    "    def __fib(self, index: int):\n",
    "        if index < 2:\n",
    "            return index\n",
    "        return self.__fib(index - 1) + self.__fib(index - 2)\n",
    "    \n",
    "    def __len__(self):\n",
    "        return self.length"
   ]
  },
  {
   "cell_type": "code",
   "execution_count": 5,
   "outputs": [
    {
     "name": "stdout",
     "text": [
      "0, 1, 1, 2, 3, 5, 8, 13, 21, 34, 55, "
     ],
     "output_type": "stream"
    }
   ],
   "source": [
    "for i in FibonacciIterator(11):\n",
    "    print(i, end=', ')"
   ],
   "metadata": {
    "collapsed": false,
    "pycharm": {
     "name": "#%%\n",
     "is_executing": false
    }
   }
  },
  {
   "cell_type": "markdown",
   "metadata": {},
   "source": [
    "# RGB To Hex Conversion\n",
    "Given 3 numbers. Write the function so that passing in RGB decimal values will result in a hexadecimal representation being returned. Valid decimal values for RGB are 0 - 255. Any values that fall out of that range must be rounded to the closest valid value.\n",
    "\n",
    "Note: Your answer should always be 6 characters long, the shorthand with 3 will not work here.\n",
    "\n",
    "    \n",
    "    Input: 255, 255, 255\n",
    "    Output: FFFFFF\n",
    "\n",
    "    Input: 255, 255, 300\n",
    "    Output: FFFFFF\n",
    "\n",
    "    Input: 148, 0, 211\n",
    "    Output: 9400D3\n"
   ]
  },
  {
   "cell_type": "code",
   "execution_count": 24,
   "metadata": {
    "pycharm": {
     "is_executing": false
    }
   },
   "outputs": [],
   "source": [
    "def to_hex(x: int) -> str:\n",
    "    if x < 0:\n",
    "        x = 0\n",
    "    if x > 255:\n",
    "        x = 255\n",
    "    return hex(x)[2:].upper()\n",
    "\n",
    "\n",
    "def check_len(hex_code: str):\n",
    "    if len(hex_code) < 2:\n",
    "        return '0' + hex_code\n",
    "    return hex_code\n",
    "\n",
    "\n",
    "def rgb_to_hex(r: int, g: int, b: int) -> str:\n",
    "    rgb = map(to_hex, [r, g, b])\n",
    "    rgb = map(check_len, rgb)    \n",
    "    return ''.join(rgb)"
   ]
  },
  {
   "cell_type": "code",
   "execution_count": 25,
   "outputs": [
    {
     "name": "stdout",
     "text": [
      "RGB: 300, 300, 300:\nHEX: FFFFFF\n\nRGB: 300, 0, 1:\nHEX: FF0001\n\n"
     ],
     "output_type": "stream"
    }
   ],
   "source": [
    "print(f\"RGB: 300, 300, 300:\\n\"\n",
    "      f\"HEX: {rgb_to_hex(300, 300, 300)}\\n\")\n",
    "print(f\"RGB: 300, 0, 1:\\n\"\n",
    "      f\"HEX: {rgb_to_hex(300, 0, 1)}\\n\")"
   ],
   "metadata": {
    "collapsed": false,
    "pycharm": {
     "name": "#%%\n",
     "is_executing": false
    }
   }
  },
  {
   "cell_type": "markdown",
   "metadata": {},
   "source": [
    "# To square(root) or not to square(root)\n",
    "Given an array of number. Write a method, that will get a number array as parameter and will process every number from this array.\n",
    "\n",
    "\n",
    "Return a new array with processing every number of the input-array like this:\n",
    "\n",
    "\n",
    "If the number has an rational square root, take this, otherwise square the number.\n",
    "\n",
    "    \n",
    "    Input:  [4,3,9,7,2,1]\n",
    "    Output: [2,9,3,49,4,1]\n",
    "\n",
    "    Input: [1.21,0,9]\n",
    "    Output: [1.1,0,3]"
   ]
  },
  {
   "cell_type": "code",
   "execution_count": 2,
   "metadata": {},
   "outputs": [],
   "source": [
    "# write your code here"
   ]
  }
 ],
 "metadata": {
  "interpreter": {
   "hash": "b469c69c7779680c4ee09c4775720b95d3e73aebb95b0b92945285ea0714cd4d"
  },
  "kernelspec": {
   "display_name": "Python 3.8.9 ('venv': venv)",
   "language": "python",
   "name": "python3"
  },
  "language_info": {
   "codemirror_mode": {
    "name": "ipython",
    "version": 3
   },
   "file_extension": ".py",
   "mimetype": "text/x-python",
   "name": "python",
   "nbconvert_exporter": "python",
   "pygments_lexer": "ipython3",
   "version": "3.8.9"
  },
  "orig_nbformat": 4,
  "pycharm": {
   "stem_cell": {
    "cell_type": "raw",
    "source": [],
    "metadata": {
     "collapsed": false
    }
   }
  }
 },
 "nbformat": 4,
 "nbformat_minor": 2
}