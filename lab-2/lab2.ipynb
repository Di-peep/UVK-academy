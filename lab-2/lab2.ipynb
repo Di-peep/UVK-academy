{
 "cells": [
  {
   "cell_type": "markdown",
   "metadata": {},
   "source": [
    "# Iterators task\n",
    "Given a number. Write iterator that prints n fibonacci numbers using `__iter__` and `__next__` methods.\n",
    "    \n",
    "    Input: 11\n",
    "    Output: 0 1 1 2 3 5 8 13 21 34 55"
   ]
  },
  {
   "cell_type": "code",
   "execution_count": 1,
   "metadata": {},
   "outputs": [],
   "source": [
    "# write your code here"
   ]
  },
  {
   "cell_type": "markdown",
   "metadata": {},
   "source": [
    "Write iterator that prints n fibonacci numbers using `__getitem__` method.\n",
    "    \n",
    "    Input: 11\n",
    "    Output: 0 1 1 2 3 5 8 13 21 34 55"
   ]
  },
  {
   "cell_type": "code",
   "execution_count": null,
   "metadata": {},
   "outputs": [],
   "source": [
    "# write your code here"
   ]
  },
  {
   "cell_type": "markdown",
   "metadata": {},
   "source": [
    "# RGB To Hex Conversion\n",
    "Given 3 numbers. Write the function so that passing in RGB decimal values will result in a hexadecimal representation being returned. Valid decimal values for RGB are 0 - 255. Any values that fall out of that range must be rounded to the closest valid value.\n",
    "\n",
    "Note: Your answer should always be 6 characters long, the shorthand with 3 will not work here.\n",
    "\n",
    "    \n",
    "    Input: 255, 255, 255\n",
    "    Output: FFFFFF\n",
    "\n",
    "    Input: 255, 255, 300\n",
    "    Output: FFFFFF\n",
    "\n",
    "    Input: 148, 0, 211\n",
    "    Output: 9400D3\n"
   ]
  },
  {
   "cell_type": "code",
   "execution_count": null,
   "metadata": {},
   "outputs": [],
   "source": [
    "# write your code here"
   ]
  },
  {
   "cell_type": "markdown",
   "metadata": {},
   "source": [
    "# To square(root) or not to square(root)\n",
    "Given an array of number. Write a method, that will get a number array as parameter and will process every number from this array.\n",
    "\n",
    "\n",
    "Return a new array with processing every number of the input-array like this:\n",
    "\n",
    "\n",
    "If the number has an rational square root, take this, otherwise square the number.\n",
    "\n",
    "    \n",
    "    Input:  [4,3,9,7,2,1]\n",
    "    Output: [2,9,3,49,4,1]\n",
    "\n",
    "    Input: [1.21,0,9]\n",
    "    Output: [1.1,0,3]"
   ]
  },
  {
   "cell_type": "code",
   "execution_count": 2,
   "metadata": {},
   "outputs": [],
   "source": [
    "# write your code here"
   ]
  }
 ],
 "metadata": {
  "interpreter": {
   "hash": "b469c69c7779680c4ee09c4775720b95d3e73aebb95b0b92945285ea0714cd4d"
  },
  "kernelspec": {
   "display_name": "Python 3.8.9 ('venv': venv)",
   "language": "python",
   "name": "python3"
  },
  "language_info": {
   "codemirror_mode": {
    "name": "ipython",
    "version": 3
   },
   "file_extension": ".py",
   "mimetype": "text/x-python",
   "name": "python",
   "nbconvert_exporter": "python",
   "pygments_lexer": "ipython3",
   "version": "3.8.9"
  },
  "orig_nbformat": 4,
  "pycharm": {
   "stem_cell": {
    "cell_type": "raw",
    "source": [],
    "metadata": {
     "collapsed": false
    }
   }
  }
 },
 "nbformat": 4,
 "nbformat_minor": 2
}