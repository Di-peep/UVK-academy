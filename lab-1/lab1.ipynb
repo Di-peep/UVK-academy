{
 "cells": [
  {
   "cell_type": "markdown",
   "metadata": {},
   "source": [
    "# Check if the string is Symmetrical or Palindrome\n",
    "\n",
    "Given a string. The task is to check if the string is symmetrical or palindrome. A string is said to be symmetrical if both the halves of the string are the same and a string is said to be a palindrome string if one half of the string is the reverse of the other half or if a string appears same when read forward or backward.\n",
    "\n",
    "    Input: khokho\n",
    "    Output: \n",
    "    The entered string is symmetrical\n",
    "    The entered string is not palindrome\n",
    "\n",
    "    Input: amaama\n",
    "    Output:\n",
    "    The entered string is symmetrical\n",
    "    The entered string is palindrome"
   ]
  },
  {
   "cell_type": "code",
   "execution_count": 6,
   "metadata": {
    "pycharm": {
     "is_executing": false
    }
   },
   "outputs": [
    {
     "name": "stdout",
     "text": [
      "Input: khokho\nOutput:\nThe entered string is symmetrical\nThe entered string is not palindrome\n\nInput: amaama\nOutput:\nThe entered string is symmetrical\nThe entered string is palindrome\n\n"
     ],
     "output_type": "stream"
    }
   ],
   "source": [
    "def is_symmetrical(line: str):\n",
    "    return line[:len(line)//2] == line[len(line)//2:]\n",
    "\n",
    "def is_palindrome(line: str):\n",
    "    return line == line[::-1]\n",
    "\n",
    "def main(some_string: str):\n",
    "    print(f\"Input: {some_string}\\n\"\n",
    "          f\"Output:\\n\"\n",
    "          f\"The entered string is{(' not', '')[is_symmetrical(some_string)]} symmetrical\\n\"\n",
    "          f\"The entered string is{(' not', '')[is_palindrome(some_string)]} palindrome\\n\")\n",
    "\n",
    "main('khokho')\n",
    "main('amaama')"
   ]
  },
  {
   "cell_type": "markdown",
   "metadata": {},
   "source": [
    "# Multiply numbers\n",
    "\n",
    "Given two numbers. The task is to mutiply them without using the * operator.\n",
    "\n",
    "    Input : 12, 12\n",
    "    Output : 144\n",
    "\n",
    "    Input : 19, 0\n",
    "    Output : 0\n",
    "\n",
    "    Input : 1.1, 17.2\n",
    "    Output : 18.92\n",
    "\n",
    "    Input : -2, 4\n",
    "    Output : -8"
   ]
  },
  {
   "cell_type": "code",
   "execution_count": 3,
   "metadata": {
    "pycharm": {
     "is_executing": false
    }
   },
   "outputs": [],
   "source": [
    "# write your code here"
   ]
  },
  {
   "cell_type": "markdown",
   "metadata": {},
   "source": [
    "# Check for balanced parentheses\n",
    "\n",
    "Given an expression string, write a python program to find whether a given string has balanced parentheses or not.\n",
    "\n",
    "    Input : {[]{()}}\n",
    "    Output : Balanced\n",
    "\n",
    "    Input : [{}{}(]\n",
    "    Output : Unbalanced\n",
    "\n",
    "    Input : {][{()}}\n",
    "    Output : Unbalanced"
   ]
  },
  {
   "cell_type": "code",
   "execution_count": null,
   "metadata": {},
   "outputs": [],
   "source": [
    "# write your code here"
   ]
  }
 ],
 "metadata": {
  "kernelspec": {
   "display_name": "Python 3.8.9 ('venv': venv)",
   "language": "python",
   "name": "python3"
  },
  "language_info": {
   "codemirror_mode": {
    "name": "ipython",
    "version": 3
   },
   "file_extension": ".py",
   "mimetype": "text/x-python",
   "name": "python",
   "nbconvert_exporter": "python",
   "pygments_lexer": "ipython3",
   "version": "3.8.9"
  },
  "orig_nbformat": 4,
  "vscode": {
   "interpreter": {
    "hash": "b469c69c7779680c4ee09c4775720b95d3e73aebb95b0b92945285ea0714cd4d"
   }
  },
  "pycharm": {
   "stem_cell": {
    "cell_type": "raw",
    "source": [],
    "metadata": {
     "collapsed": false
    }
   }
  }
 },
 "nbformat": 4,
 "nbformat_minor": 2
}