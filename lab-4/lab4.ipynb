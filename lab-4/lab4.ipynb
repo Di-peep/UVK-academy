{
 "cells": [
  {
   "cell_type": "markdown",
   "metadata": {},
   "source": [
    "# Perfect numbers generator\n",
    "Given the number, the task to return n perfect numbers.\n",
    "\n",
    "\n",
    "In number theory, a perfect number is a positive integer that is equal to the sum of its positive divisors, excluding the number itself. For instance, 6 has divisors 1, 2 and 3 (excluding itself), and 1 + 2 + 3 = 6, so 6 is a perfect number. More about perfect numbers read on https://en.wikipedia.org/wiki/Perfect_number.\n",
    "\n",
    "\n",
    "Note: Use generator for that task\n",
    "\n",
    "\n",
    "    Input: 3\n",
    "    Output: 6, 28, 496"
   ]
  },
  {
   "cell_type": "code",
   "execution_count": 4,
   "metadata": {
    "pycharm": {
     "is_executing": false
    }
   },
   "outputs": [],
   "source": [
    "def generator_prime_numbers(n: int) -> int:\n",
    "    i = 0\n",
    "    digit = 1\n",
    "    prime_numbers = {2, 3, 5}\n",
    "    \n",
    "    while i < n:\n",
    "        digit += 1\n",
    "        for divisor in prime_numbers:\n",
    "            if digit % divisor == 0 and digit != divisor:\n",
    "                break\n",
    "        else:   \n",
    "            prime_numbers.add(digit)\n",
    "            yield digit\n",
    "            i += 1\n",
    "\n",
    "def get_perfect_number(n: int) -> [int]:\n",
    "    ans = []\n",
    "    generator = generator_prime_numbers(n)\n",
    "    for p in generator:\n",
    "        ans.append(2 ** (p - 1) * (2 ** p - 1))\n",
    "    \n",
    "    return ans"
   ]
  },
  {
   "cell_type": "code",
   "execution_count": 5,
   "outputs": [
    {
     "name": "stdout",
     "text": [
      "[6, 28, 496, 8128]\n"
     ],
     "output_type": "stream"
    }
   ],
   "source": [
    "print(get_perfect_number(4))"
   ],
   "metadata": {
    "collapsed": false,
    "pycharm": {
     "name": "#%%\n",
     "is_executing": false
    }
   }
  },
  {
   "cell_type": "markdown",
   "metadata": {},
   "source": [
    "# IP Validation\n",
    "Write an algorithm that will identify valid IPv4 addresses in dot-decimal format. IPs should be considered valid if they consist of four octets, with values between 0 and 255, inclusive.\n",
    "\n",
    "Note: Create the decorator that validates if the passed to inner function ip value is correct. In case of incorrect ip format, user should see the error message.\n",
    "\n",
    "\n",
    "    Examples of correct ip addresses: 1.2.3.4, 123.45.67.89\n",
    "    Examples of incorrect ip addresses: 1.2.3, 1.2.3.4.5, 123.456.78.90, 123.045.067.089"
   ]
  },
  {
   "cell_type": "code",
   "execution_count": null,
   "metadata": {},
   "outputs": [],
   "source": [
    "# write your code here"
   ]
  },
  {
   "cell_type": "markdown",
   "metadata": {},
   "source": [
    "# ISBN-10 Validation\n",
    "\n",
    "ISBN-10 identifiers are ten digits long. The first nine characters are digits 0-9. The last digit can be 0-9 or X, to indicate a value of 10.\n",
    "\n",
    "An ISBN-10 number is valid if the sum of the digits multiplied by their position modulo 11 equals zero. More about ISBN on https://en.wikipedia.org/wiki/ISBN\n",
    "\n",
    "\n",
    "For example:\n",
    "\n",
    "\n",
    "    ISBN     : 1 1 1 2 2 2 3 3 3  9\n",
    "    position : 1 2 3 4 5 6 7 8 9 10\n",
    "\n",
    "\n",
    "This is a valid ISBN, because:\n",
    "\n",
    "\n",
    "    (1*1 + 1*2 + 1*3 + 2*4 + 2*5 + 2*6 + 3*7 + 3*8 + 3*9 + 9*10) % 11 = 0\n",
    "\n",
    "\n",
    "Note: Create the decorator that validates if the passed to inner function isbn value is correct. In case of incorrect isbn format, user should see the error message.\n",
    "\n",
    "\n",
    "    Examples of correct isbn-10 addresses: 1112223339, 1234554321, 048665088X\n",
    "    Examples of incorrect isbn-10 addresses: 111222333, 1112223339X, 1234512345, X123456788"
   ]
  },
  {
   "cell_type": "code",
   "execution_count": null,
   "metadata": {},
   "outputs": [],
   "source": [
    "# write your code here"
   ]
  }
 ],
 "metadata": {
  "kernelspec": {
   "display_name": "Python 3.9.6 ('venv': venv)",
   "language": "python",
   "name": "python3"
  },
  "language_info": {
   "name": "python",
   "version": "3.9.6"
  },
  "orig_nbformat": 4,
  "vscode": {
   "interpreter": {
    "hash": "f6bbc3f78a19c700aba95937ccd2357fb00e815cfd39466200ea33816d85557e"
   }
  },
  "pycharm": {
   "stem_cell": {
    "cell_type": "raw",
    "source": [],
    "metadata": {
     "collapsed": false
    }
   }
  }
 },
 "nbformat": 4,
 "nbformat_minor": 2
}