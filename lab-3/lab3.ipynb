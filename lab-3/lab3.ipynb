{
 "cells": [
  {
   "cell_type": "markdown",
   "metadata": {},
   "source": [
    "# ROT13\n",
    "Given the word, the task is to obfuscate it. \n",
    "\n",
    "According to Wikipedia, ROT13 (http://en.wikipedia.org/wiki/ROT13) is frequently used to obfuscate phrases on USENET.\n",
    "\n",
    "Hint: For this task you're only supposed to substitute characters. Not spaces, punctuation, numbers etc.\n",
    "\n",
    "\n",
    "\n",
    "    Input: EBG13 rknzcyr.\n",
    "    Output: ROT13 example.\n",
    "\n",
    "    Input: This is my first ROT13 excercise!\n",
    "    Output: Guvf vf zl svefg EBG13 rkprepvfr!"
   ]
  },
  {
   "cell_type": "code",
   "execution_count": 11,
   "metadata": {
    "pycharm": {
     "is_executing": false
    }
   },
   "outputs": [],
   "source": [
    "def save_case(line: str) -> list:\n",
    "    \"\"\"A function to save the case of letters.\"\"\"\n",
    "    return list(map(lambda char: ord('A') <= ord(char) <= ord('Z'), line))\n",
    "\n",
    "\n",
    "def rot13(line: str) -> str:\n",
    "    rot13 = ''\n",
    "    case_line = save_case(line)\n",
    "    \n",
    "    for i, char in enumerate(line.lower()):\n",
    "        if ord('a') + 13 <= ord(char) + 13 <= ord('z'):\n",
    "            rchar = chr(ord(char) + 13)\n",
    "        elif ord('z') < ord(char) + 13 <= ord('z') + 13:\n",
    "            rchar = chr(ord(char) + 13 - ord('z') + ord('a') - 1)\n",
    "        else:\n",
    "            rchar = char\n",
    "        \n",
    "        if case_line[i]:\n",
    "            rot13 += rchar.upper()\n",
    "        else:\n",
    "            rot13 += rchar\n",
    "    \n",
    "    return rot13"
   ]
  },
  {
   "cell_type": "code",
   "execution_count": 13,
   "outputs": [
    {
     "name": "stdout",
     "text": [
      "Input: EBG13 rknzcyr.\nOutput: ROT13 example.\n\nInput: This is my first ROT13 excercise!\nOutput: Guvf vf zl svefg EBG13 rkprepvfr!\n\n"
     ],
     "output_type": "stream"
    }
   ],
   "source": [
    "print(f\"Input: {'EBG13 rknzcyr.'}\\n\"\n",
    "      f\"Output: {rot13('EBG13 rknzcyr.')}\\n\")\n",
    "\n",
    "print(f\"Input: {'This is my first ROT13 excercise!'}\\n\"\n",
    "      f\"Output: {rot13('This is my first ROT13 excercise!')}\\n\")\n"
   ],
   "metadata": {
    "collapsed": false,
    "pycharm": {
     "name": "#%%\n",
     "is_executing": false
    }
   }
  },
  {
   "cell_type": "markdown",
   "metadata": {},
   "source": [
    "# Roman Numerals Decoder\n",
    "\n",
    "Given a string. Create a function that takes a Roman numeral as its argument and returns its value as a numeric decimal integer. You don't need to validate the form of the Roman numeral.\n",
    "\n",
    "\n",
    "Modern Roman numerals are written by expressing each decimal digit of the number to be encoded separately, starting with the leftmost digit and skipping any 0s. So 1990 is rendered \"MCMXC\" (1000 = M, 900 = CM, 90 = XC) and 2008 is rendered \"MMVIII\" (2000 = MM, 8 = VIII). The Roman numeral for 1666, \"MDCLXVI\", uses each letter in descending order.\n",
    "\n",
    "    Input: XXI\n",
    "    Output: 21"
   ]
  },
  {
   "cell_type": "code",
   "execution_count": null,
   "metadata": {},
   "outputs": [],
   "source": [
    "# write your code here"
   ]
  }
 ],
 "metadata": {
  "language_info": {
   "name": "python"
  },
  "orig_nbformat": 4,
  "pycharm": {
   "stem_cell": {
    "cell_type": "raw",
    "source": [],
    "metadata": {
     "collapsed": false
    }
   }
  },
  "kernelspec": {
   "name": "python3",
   "language": "python",
   "display_name": "Python 3 (ipykernel)"
  }
 },
 "nbformat": 4,
 "nbformat_minor": 2
}